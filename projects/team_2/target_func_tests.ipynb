{
 "cells": [
  {
   "cell_type": "code",
   "execution_count": 1,
   "id": "183dc2e1-b98e-487c-a56b-c3ea4708890c",
   "metadata": {},
   "outputs": [],
   "source": [
    "import os\n",
    "import numpy as np\n",
    "import pandas as pd"
   ]
  },
  {
   "cell_type": "code",
   "execution_count": 79,
   "id": "e8a9dcb7-6caf-4d0d-aeab-d007d6fbb5e0",
   "metadata": {},
   "outputs": [],
   "source": [
    "path_0 = \"summaries/summary_0_all-MiniLM-L6-v2/\"\n",
    "path_01 = \"summaries/summary_10_all-MiniLM-L6-v2/\"\n",
    "path_1 = \"summaries/summary_100_all-MiniLM-L6-v2/\"\n",
    "path_5 = \"summaries/summary_500_all-MiniLM-L6-v2/\"\n",
    "path_10 = \"summaries/summary_1000_all-MiniLM-L6-v2/\"\n",
    "path_20 = \"summaries/summary_2000_all-MiniLM-L6-v2/\"\n",
    "path_50 = \"summaries/summary_5000_all-MiniLM-L6-v2/\"\n",
    "path_100 = \"summaries/summary_10000_all-MiniLM-L6-v2/\"\n",
    "path_1000 = \"summaries/summary_100000_all-MiniLM-L6-v2/\"\n",
    "path_100000 = \"summaries/summary_1000000000_all-MiniLM-L6-v2/\"\n",
    "targets = \"targets/\""
   ]
  },
  {
   "cell_type": "code",
   "execution_count": 58,
   "id": "a5da3ee9-b1ed-414d-a0b2-da416e9b1717",
   "metadata": {},
   "outputs": [],
   "source": [
    "def get_summaries_len(path):\n",
    "    files = [os.path.join(path, f) for f in os.listdir(path)]\n",
    "    summ_lens = []\n",
    "    for file in files:\n",
    "        with open(file, \"r\", encoding=\"utf-8\") as f:\n",
    "            summ = f.readlines()[0]\n",
    "            summ_lens.append(len(summ.split(\". \")))\n",
    "    return summ_lens\n",
    "\n",
    "def get_targets_len(path):\n",
    "    files = [os.path.join(path, f) for f in os.listdir(path)]\n",
    "    summ_lens = []\n",
    "    for file in files:\n",
    "        with open(file, \"r\", encoding=\"utf-8\") as f:\n",
    "            lines = f.readlines()\n",
    "            lines = [line.rstrip() for line in lines]\n",
    "            summ_lens.append(len(lines))\n",
    "    return summ_lens"
   ]
  },
  {
   "cell_type": "code",
   "execution_count": 77,
   "id": "8aad01f7-b91a-4de4-88cd-95cfb8b23baa",
   "metadata": {},
   "outputs": [
    {
     "data": {
      "text/plain": [
       "[3, 5, 3, 4, 2, 3, 5, 2, 4, 6]"
      ]
     },
     "execution_count": 77,
     "metadata": {},
     "output_type": "execute_result"
    }
   ],
   "source": [
    "get_summaries_len(path_0)"
   ]
  },
  {
   "cell_type": "code",
   "execution_count": 75,
   "id": "b2da5dcd-4d08-46a4-a829-167e7218b888",
   "metadata": {},
   "outputs": [
    {
     "data": {
      "text/plain": [
       "[4, 4, 3, 3, 5, 3, 4, 2, 2, 6]"
      ]
     },
     "execution_count": 75,
     "metadata": {},
     "output_type": "execute_result"
    }
   ],
   "source": [
    "get_summaries_len(path_01)"
   ]
  },
  {
   "cell_type": "code",
   "execution_count": 73,
   "id": "40326fca-651a-49aa-ac4a-522d29fe6e2a",
   "metadata": {},
   "outputs": [
    {
     "data": {
      "text/plain": [
       "[4, 4, 3, 3, 5, 3, 4, 2, 4, 6]"
      ]
     },
     "execution_count": 73,
     "metadata": {},
     "output_type": "execute_result"
    }
   ],
   "source": [
    "get_summaries_len(path_1)"
   ]
  },
  {
   "cell_type": "code",
   "execution_count": 83,
   "id": "02eb1210-a8cb-435d-95b9-3f6be1499df7",
   "metadata": {},
   "outputs": [
    {
     "data": {
      "text/plain": [
       "[4, 6, 4, 3, 4, 3, 3, 3, 5, 3]"
      ]
     },
     "execution_count": 83,
     "metadata": {},
     "output_type": "execute_result"
    }
   ],
   "source": [
    "get_targets_len(targets)"
   ]
  },
  {
   "cell_type": "code",
   "execution_count": 81,
   "id": "03f53403-364c-46ba-afac-64246649046f",
   "metadata": {},
   "outputs": [
    {
     "data": {
      "text/plain": [
       "[4, 4, 4, 4, 5, 4, 4, 4, 5, 6]"
      ]
     },
     "execution_count": 81,
     "metadata": {},
     "output_type": "execute_result"
    }
   ],
   "source": [
    "get_summaries_len(path_20)"
   ]
  },
  {
   "cell_type": "code",
   "execution_count": 56,
   "id": "79a76d15-bb50-4559-b16b-ae4f2b44b519",
   "metadata": {},
   "outputs": [
    {
     "data": {
      "text/plain": [
       "[4, 4, 4, 4, 8, 4, 4, 4, 6, 8]"
      ]
     },
     "execution_count": 56,
     "metadata": {},
     "output_type": "execute_result"
    }
   ],
   "source": [
    "get_summaries_len(path_50)"
   ]
  },
  {
   "cell_type": "code",
   "execution_count": 80,
   "id": "dc7e8f27-a30b-4070-8672-5d466e0d56db",
   "metadata": {},
   "outputs": [
    {
     "data": {
      "text/plain": [
       "[4, 4, 4, 4, 4, 4, 4, 4, 4, 5]"
      ]
     },
     "execution_count": 80,
     "metadata": {},
     "output_type": "execute_result"
    }
   ],
   "source": [
    "get_summaries_len(path_100)"
   ]
  },
  {
   "cell_type": "code",
   "execution_count": 67,
   "id": "dbfd19d7-ec49-4b02-afa6-e085af190f9d",
   "metadata": {},
   "outputs": [
    {
     "data": {
      "text/plain": [
       "[4, 2, 3, 3, 5, 3, 3, 2, 3, 5]"
      ]
     },
     "execution_count": 67,
     "metadata": {},
     "output_type": "execute_result"
    }
   ],
   "source": [
    "get_summaries_len(path_10000)"
   ]
  },
  {
   "cell_type": "code",
   "execution_count": 63,
   "id": "9ee07f0a-d216-4938-807e-ca1cb96f12f8",
   "metadata": {},
   "outputs": [
    {
     "data": {
      "text/plain": [
       "[4, 4, 4, 4, 6, 4, 6, 4, 6, 7]"
      ]
     },
     "execution_count": 63,
     "metadata": {},
     "output_type": "execute_result"
    }
   ],
   "source": [
    "get_summaries_len(path_100000)"
   ]
  },
  {
   "cell_type": "code",
   "execution_count": 70,
   "id": "d435ff54-b298-41df-a4a9-836ee101278a",
   "metadata": {},
   "outputs": [
    {
     "data": {
      "text/plain": [
       "[4, 4, 3, 3, 4, 3, 2, 3, 3, 6]"
      ]
     },
     "execution_count": 70,
     "metadata": {},
     "output_type": "execute_result"
    }
   ],
   "source": [
    "get_summaries_len(path_10)"
   ]
  },
  {
   "cell_type": "code",
   "execution_count": 82,
   "id": "10a0c9b5-f881-423b-82e8-8cd62222adfd",
   "metadata": {},
   "outputs": [
    {
     "data": {
      "text/plain": [
       "[17, 32, 14, 22, 36, 4, 32, 30, 33, 42]"
      ]
     },
     "execution_count": 82,
     "metadata": {},
     "output_type": "execute_result"
    }
   ],
   "source": [
    "get_summaries_len(path_5)"
   ]
  },
  {
   "cell_type": "code",
   "execution_count": null,
   "id": "a9f910d6-ae5e-401c-96d3-63cd6ca75f0a",
   "metadata": {},
   "outputs": [],
   "source": []
  }
 ],
 "metadata": {
  "kernelspec": {
   "display_name": "Python 3 (ipykernel)",
   "language": "python",
   "name": "python3"
  },
  "language_info": {
   "codemirror_mode": {
    "name": "ipython",
    "version": 3
   },
   "file_extension": ".py",
   "mimetype": "text/x-python",
   "name": "python",
   "nbconvert_exporter": "python",
   "pygments_lexer": "ipython3",
   "version": "3.9.5"
  }
 },
 "nbformat": 4,
 "nbformat_minor": 5
}
